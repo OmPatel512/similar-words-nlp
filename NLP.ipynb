{
 "cells": [
  {
   "cell_type": "markdown",
   "id": "7a873aa3",
   "metadata": {},
   "source": [
    "###### Get the text"
   ]
  },
  {
   "cell_type": "code",
   "execution_count": 1,
   "id": "c4a9e89a",
   "metadata": {},
   "outputs": [],
   "source": [
    "import bs4 as bs\n",
    "import urllib.request\n",
    "import re\n",
    "import nltk"
   ]
  },
  {
   "cell_type": "code",
   "execution_count": 2,
   "id": "9776c24a",
   "metadata": {},
   "outputs": [],
   "source": [
    "scrapped_data = urllib.request.urlopen('https://en.wikipedia.org/wiki/Machine_learning')\n",
    "article = scrapped_data .read()\n",
    "\n",
    "parsed_article = bs.BeautifulSoup(article,'lxml')\n",
    "\n",
    "paragraphs = parsed_article.find_all('p')\n",
    "\n",
    "article_text = \"\"\n",
    "\n",
    "for p in paragraphs:\n",
    "    article_text += p.text"
   ]
  },
  {
   "cell_type": "markdown",
   "id": "05bff7b2",
   "metadata": {},
   "source": [
    "###### Remove Stop Words"
   ]
  },
  {
   "cell_type": "code",
   "execution_count": 3,
   "id": "67eb7574",
   "metadata": {},
   "outputs": [],
   "source": [
    "try:\n",
    "    import string\n",
    "    from nltk.corpus import stopwords\n",
    "    import nltk\n",
    "except Exception as e:\n",
    "    print(e)\n",
    "\n",
    "\n",
    "class PreProcessText(object):\n",
    "\n",
    "    def __init__(self):\n",
    "        pass\n",
    "\n",
    "    def __remove_punctuation(self, text):\n",
    "        \"\"\"\n",
    "        Takes a String\n",
    "        return : Return a String\n",
    "        \"\"\"\n",
    "        message = []\n",
    "        for x in text:\n",
    "            if x in string.punctuation:\n",
    "                pass\n",
    "            else:\n",
    "                message.append(x)\n",
    "        message = ''.join(message)\n",
    "\n",
    "        return message\n",
    "\n",
    "    def __remove_stopwords(self, text):\n",
    "        \"\"\"\n",
    "        Takes a String\n",
    "        return List\n",
    "        \"\"\"\n",
    "        words= []\n",
    "        for x in text.split():\n",
    "\n",
    "            if x.lower() in stopwords.words('english'):\n",
    "                pass\n",
    "            else:\n",
    "                words.append(x)\n",
    "        return words\n",
    "\n",
    "\n",
    "    def token_words(self,text=''):\n",
    "        \"\"\"\n",
    "        Takes String\n",
    "        Return Token also called  list of words that is used to\n",
    "        Train the Model\n",
    "        \"\"\"\n",
    "        message = self.__remove_punctuation(text)\n",
    "        words = self.__remove_stopwords(message)\n",
    "        return words"
   ]
  },
  {
   "cell_type": "code",
   "execution_count": 4,
   "id": "623aa0bb",
   "metadata": {},
   "outputs": [
    {
     "name": "stderr",
     "output_type": "stream",
     "text": [
      "[nltk_data] Downloading package stopwords to C:\\Users\\Om\n",
      "[nltk_data]     Patel\\AppData\\Roaming\\nltk_data...\n",
      "[nltk_data]   Package stopwords is already up-to-date!\n"
     ]
    },
    {
     "name": "stdout",
     "output_type": "stream",
     "text": [
      "Downloaded Stop words ...... \n"
     ]
    }
   ],
   "source": [
    "import nltk\n",
    "flag = nltk.download(\"stopwords\")\n",
    "\n",
    "if (flag == \"False\" or flag == False):\n",
    "    print(\"Failed to Download Stop Words\")\n",
    "else:\n",
    "    print(\"Downloaded Stop words ...... \")\n",
    "    helper = PreProcessText()\n",
    "    #words = helper.token_words(text=txt)\n",
    "    words = helper.token_words(text=article_text)\n"
   ]
  },
  {
   "cell_type": "markdown",
   "id": "8af6436b",
   "metadata": {},
   "source": [
    "###### Train The model"
   ]
  },
  {
   "cell_type": "code",
   "execution_count": 5,
   "id": "6ee583e9",
   "metadata": {},
   "outputs": [],
   "source": [
    "from gensim.models import Word2Vec"
   ]
  },
  {
   "cell_type": "code",
   "execution_count": 7,
   "id": "48e788ec",
   "metadata": {},
   "outputs": [],
   "source": [
    "model = Word2Vec([words], window=5, min_count=1, workers=4)"
   ]
  },
  {
   "cell_type": "code",
   "execution_count": 9,
   "id": "34dcb159",
   "metadata": {},
   "outputs": [],
   "source": [
    "key_to_index = model.wv.key_to_index\n",
    "vocabulary = list(key_to_index.keys())\n",
    "\n"
   ]
  },
  {
   "cell_type": "code",
   "execution_count": 10,
   "id": "e872be18",
   "metadata": {},
   "outputs": [],
   "source": [
    "sim_words = model.wv.most_similar('machine')"
   ]
  },
  {
   "cell_type": "code",
   "execution_count": 11,
   "id": "da9be5a1",
   "metadata": {},
   "outputs": [
    {
     "data": {
      "text/plain": [
       "[('come', 0.3495900332927704),\n",
       " ('literature', 0.3371608853340149),\n",
       " ('AccMPEG30', 0.3336326479911804),\n",
       " ('notion', 0.3179858922958374),\n",
       " ('Statistical', 0.3170044422149658),\n",
       " ('80', 0.3005281686782837),\n",
       " ('hierarchy', 0.29787158966064453),\n",
       " ('crosses', 0.2969047427177429),\n",
       " ('2010', 0.29089710116386414),\n",
       " ('teacher', 0.29065877199172974)]"
      ]
     },
     "execution_count": 11,
     "metadata": {},
     "output_type": "execute_result"
    }
   ],
   "source": [
    "sim_words"
   ]
  },
  {
   "cell_type": "code",
   "execution_count": null,
   "id": "30059fca",
   "metadata": {},
   "outputs": [],
   "source": []
  },
  {
   "cell_type": "code",
   "execution_count": null,
   "id": "05df863b",
   "metadata": {},
   "outputs": [],
   "source": []
  }
 ],
 "metadata": {
  "kernelspec": {
   "display_name": "Python 3 (ipykernel)",
   "language": "python",
   "name": "python3"
  },
  "language_info": {
   "codemirror_mode": {
    "name": "ipython",
    "version": 3
   },
   "file_extension": ".py",
   "mimetype": "text/x-python",
   "name": "python",
   "nbconvert_exporter": "python",
   "pygments_lexer": "ipython3",
   "version": "3.9.12"
  }
 },
 "nbformat": 4,
 "nbformat_minor": 5
}
